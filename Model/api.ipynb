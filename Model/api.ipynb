{
 "cells": [
  {
   "cell_type": "code",
   "execution_count": 12,
   "metadata": {},
   "outputs": [],
   "source": [
    "import requests"
   ]
  },
  {
   "cell_type": "code",
   "execution_count": null,
   "metadata": {},
   "outputs": [],
   "source": [
    "# protein id is currently hardcoded, get uniprot protein ids from csv. \n",
    "protein_id = \"\" # enter in protein ID here\n",
    "def get_protein_sequence(protein_id):\n",
    "    url = f\"https://www.ebi.ac.uk/proteins/api/proteins/{protein_id}\"\n",
    "    headers = {\"Accept\": \"application/json\"}\n",
    "    \n",
    "    response = requests.get(url, headers=headers)\n",
    "\n",
    "    if response.status_code == 200:\n",
    "        data = response.json()\n",
    "        return data.get(\"sequence\", {}).get(\"sequence\", \"No sequence found\")\n",
    "    else:\n",
    "        return f\"Error: {response.status_code}, {response.text}\""
   ]
  },
  {
   "cell_type": "code",
   "execution_count": 14,
   "metadata": {},
   "outputs": [
    {
     "name": "stdout",
     "output_type": "stream",
     "text": [
      "Error: 400, {\"requestedURL\":\"https://www.ebi.ac.uk/proteins/api/proteins/\",\"errorMessage\":[\"At least one of these request parameters is required: accession, isoform, goterms, keywords, ec, gene, exact_gene, protein, organism, taxid, pubmed, seqLength or md5\"]}\n"
     ]
    }
   ],
   "source": [
    "sequence = get_protein_sequence(protein_id)\n",
    "print(sequence)"
   ]
  }
 ],
 "metadata": {
  "kernelspec": {
   "display_name": "Python 3",
   "language": "python",
   "name": "python3"
  },
  "language_info": {
   "codemirror_mode": {
    "name": "ipython",
    "version": 3
   },
   "file_extension": ".py",
   "mimetype": "text/x-python",
   "name": "python",
   "nbconvert_exporter": "python",
   "pygments_lexer": "ipython3",
   "version": "3.13.0"
  }
 },
 "nbformat": 4,
 "nbformat_minor": 2
}
