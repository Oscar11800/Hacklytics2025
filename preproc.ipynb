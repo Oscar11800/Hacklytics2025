{
 "cells": [
  {
   "cell_type": "code",
   "execution_count": 1,
   "metadata": {},
   "outputs": [],
   "source": [
    "import pandas as pd"
   ]
  },
  {
   "cell_type": "code",
   "execution_count": 14,
   "metadata": {},
   "outputs": [],
   "source": [
    "import pandas as pd\n",
    "\n",
    "# Read the TSV file\n",
    "# Using sep='\\t' since it's tab-separated\n",
    "# Comment '#' to ignore lines starting with #\n",
    "df = pd.read_csv('/Users/saianoopavunuri/Documents/cs_projects/hackathons/Hacklytics2025/HomoSapiens_binary_hq.txt', sep='\\t')"
   ]
  },
  {
   "cell_type": "code",
   "execution_count": 27,
   "metadata": {},
   "outputs": [
    {
     "name": "stdout",
     "output_type": "stream",
     "text": [
      "Number of unique proteins: 21137\n",
      "Shape of adjacency matrix: (21137, 21137)\n",
      "Number of non-zero elements: 320836\n",
      "Sparsity: 0.07%\n"
     ]
    }
   ],
   "source": [
    "import pandas as pd\n",
    "import numpy as np\n",
    "from scipy import sparse\n",
    "\n",
    "# Get unique proteins\n",
    "proteins = sorted(list(set(df['Uniprot_A'].unique()) | set(df['Uniprot_B'].unique())))\n",
    "\n",
    "# Create mapping of protein IDs to matrix indices\n",
    "protein_to_idx = {protein: idx for idx, protein in enumerate(proteins)}\n",
    "\n",
    "# Create empty sparse matrix in COO format (most efficient for construction)\n",
    "rows = []\n",
    "cols = []\n",
    "data = []\n",
    "\n",
    "# Fill the sparse matrix\n",
    "for _, row in df.iterrows():\n",
    "    i = protein_to_idx[row['Uniprot_A']]\n",
    "    j = protein_to_idx[row['Uniprot_B']]\n",
    "    # Add both directions for undirected graph\n",
    "    rows.extend([i, j])\n",
    "    cols.extend([j, i])\n",
    "    data.extend([1, 1])\n",
    "\n",
    "# Convert to CSR format (most efficient for matrix operations)\n",
    "adj_matrix = sparse.csr_matrix((data, (rows, cols)), \n",
    "                             shape=(len(proteins), len(proteins)))\n",
    "\n",
    "# Display basic information\n",
    "print(f\"Number of unique proteins: {len(proteins)}\")\n",
    "print(f\"Shape of adjacency matrix: {adj_matrix.shape}\")\n",
    "print(f\"Number of non-zero elements: {adj_matrix.nnz}\")\n",
    "print(f\"Sparsity: {adj_matrix.nnz/(len(proteins)**2)*100:.2f}%\")\n",
    "\n",
    "# Save in compressed sparse format\n",
    "sparse.save_npz('protein_adjacency_sparse.npz', adj_matrix)\n",
    "\n",
    "# To save the protein index mapping for later use\n",
    "import json\n",
    "with open('protein_index_mapping.json', 'w') as f:\n",
    "    json.dump(protein_to_idx, f)"
   ]
  },
  {
   "cell_type": "code",
   "execution_count": null,
   "metadata": {},
   "outputs": [],
   "source": []
  }
 ],
 "metadata": {
  "kernelspec": {
   "display_name": "hacklytics2025",
   "language": "python",
   "name": "python3"
  },
  "language_info": {
   "codemirror_mode": {
    "name": "ipython",
    "version": 3
   },
   "file_extension": ".py",
   "mimetype": "text/x-python",
   "name": "python",
   "nbconvert_exporter": "python",
   "pygments_lexer": "ipython3",
   "version": "3.10.16"
  }
 },
 "nbformat": 4,
 "nbformat_minor": 2
}
